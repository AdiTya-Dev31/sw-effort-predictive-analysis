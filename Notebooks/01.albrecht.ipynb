{
 "cells": [
  {
   "cell_type": "code",
   "execution_count": null,
   "metadata": {},
   "outputs": [],
   "source": []
  },
  {
   "cell_type": "code",
   "execution_count": 2,
   "metadata": {},
   "outputs": [],
   "source": [
    "from scipy.io import arff\n",
    "import pandas as pd\n",
    "import numpy as np\n",
    "from sklearn.linear_model import LinearRegression\n",
    "from sklearn.metrics import mean_squared_error, r2_score\n",
    "\n",
    "# Formatação mais bonita para os notebooks\n",
    "import seaborn as sns\n",
    "import matplotlib.pyplot as plt\n",
    "\n",
    "%matplotlib inline\n",
    "plt.style.use('fivethirtyeight')\n",
    "plt.rcParams['figure.figsize'] = (15,5)"
   ]
  },
  {
   "cell_type": "code",
   "execution_count": 3,
   "metadata": {},
   "outputs": [
    {
     "data": {
      "text/html": [
       "<div>\n",
       "<style scoped>\n",
       "    .dataframe tbody tr th:only-of-type {\n",
       "        vertical-align: middle;\n",
       "    }\n",
       "\n",
       "    .dataframe tbody tr th {\n",
       "        vertical-align: top;\n",
       "    }\n",
       "\n",
       "    .dataframe thead th {\n",
       "        text-align: right;\n",
       "    }\n",
       "</style>\n",
       "<table border=\"1\" class=\"dataframe\">\n",
       "  <thead>\n",
       "    <tr style=\"text-align: right;\">\n",
       "      <th></th>\n",
       "      <th>id</th>\n",
       "      <th>Input</th>\n",
       "      <th>Output</th>\n",
       "      <th>Inquiry</th>\n",
       "      <th>File</th>\n",
       "      <th>FPAdj</th>\n",
       "      <th>RawFPcounts</th>\n",
       "      <th>AdjFP</th>\n",
       "      <th>Effort</th>\n",
       "    </tr>\n",
       "  </thead>\n",
       "  <tbody>\n",
       "    <tr>\n",
       "      <th>0</th>\n",
       "      <td>1</td>\n",
       "      <td>25</td>\n",
       "      <td>150</td>\n",
       "      <td>75</td>\n",
       "      <td>60</td>\n",
       "      <td>1.00</td>\n",
       "      <td>1750.00</td>\n",
       "      <td>1750</td>\n",
       "      <td>102.4</td>\n",
       "    </tr>\n",
       "    <tr>\n",
       "      <th>1</th>\n",
       "      <td>2</td>\n",
       "      <td>193</td>\n",
       "      <td>98</td>\n",
       "      <td>70</td>\n",
       "      <td>36</td>\n",
       "      <td>1.00</td>\n",
       "      <td>1902.00</td>\n",
       "      <td>1902</td>\n",
       "      <td>105.2</td>\n",
       "    </tr>\n",
       "    <tr>\n",
       "      <th>2</th>\n",
       "      <td>3</td>\n",
       "      <td>70</td>\n",
       "      <td>27</td>\n",
       "      <td>0</td>\n",
       "      <td>12</td>\n",
       "      <td>0.80</td>\n",
       "      <td>535.00</td>\n",
       "      <td>428</td>\n",
       "      <td>11.1</td>\n",
       "    </tr>\n",
       "    <tr>\n",
       "      <th>3</th>\n",
       "      <td>4</td>\n",
       "      <td>40</td>\n",
       "      <td>60</td>\n",
       "      <td>20</td>\n",
       "      <td>12</td>\n",
       "      <td>1.15</td>\n",
       "      <td>660.00</td>\n",
       "      <td>759</td>\n",
       "      <td>21.1</td>\n",
       "    </tr>\n",
       "    <tr>\n",
       "      <th>4</th>\n",
       "      <td>5</td>\n",
       "      <td>10</td>\n",
       "      <td>69</td>\n",
       "      <td>1</td>\n",
       "      <td>9</td>\n",
       "      <td>0.90</td>\n",
       "      <td>478.89</td>\n",
       "      <td>431</td>\n",
       "      <td>28.8</td>\n",
       "    </tr>\n",
       "  </tbody>\n",
       "</table>\n",
       "</div>"
      ],
      "text/plain": [
       "   id  Input  Output  Inquiry  File  FPAdj  RawFPcounts  AdjFP  Effort\n",
       "0   1     25     150       75    60   1.00      1750.00   1750   102.4\n",
       "1   2    193      98       70    36   1.00      1902.00   1902   105.2\n",
       "2   3     70      27        0    12   0.80       535.00    428    11.1\n",
       "3   4     40      60       20    12   1.15       660.00    759    21.1\n",
       "4   5     10      69        1     9   0.90       478.89    431    28.8"
      ]
     },
     "execution_count": 3,
     "metadata": {},
     "output_type": "execute_result"
    }
   ],
   "source": [
    "df_albrecht = pd.read_csv('../Datasets/01.albrecht.csv')\n",
    "df_albrecht.head()"
   ]
  },
  {
   "cell_type": "code",
   "execution_count": 1,
   "metadata": {},
   "outputs": [],
   "source": []
  },
  {
   "cell_type": "code",
   "execution_count": null,
   "metadata": {},
   "outputs": [],
   "source": []
  }
 ],
 "metadata": {
  "kernelspec": {
   "display_name": "Python 3",
   "language": "python",
   "name": "python3"
  },
  "language_info": {
   "codemirror_mode": {
    "name": "ipython",
    "version": 3
   },
   "file_extension": ".py",
   "mimetype": "text/x-python",
   "name": "python",
   "nbconvert_exporter": "python",
   "pygments_lexer": "ipython3",
   "version": "3.6.2"
  }
 },
 "nbformat": 4,
 "nbformat_minor": 2
}
